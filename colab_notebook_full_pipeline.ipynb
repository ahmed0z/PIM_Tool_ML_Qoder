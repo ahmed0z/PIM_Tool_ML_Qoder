# AutoPatternChecker - Full Pipeline

This notebook demonstrates the complete AutoPatternChecker pipeline for learning patterns from CSV data and validating new values.

## Overview
1. **Data Ingestion**: Load and process CSV data
2. **Pattern Profiling**: Analyze patterns and generate signatures
3. **Normalization**: Learn and apply normalization rules
4. **Clustering**: Detect sub-formats within keys
5. **Embeddings**: Generate semantic embeddings
6. **Indexing**: Build FAISS indices for similarity search
7. **Validation API**: Runtime validation service
8. **Active Learning**: Human feedback integration