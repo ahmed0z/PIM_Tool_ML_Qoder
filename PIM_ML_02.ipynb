{
  "nbformat": 4,
  "nbformat_minor": 0,
  "metadata": {
    "colab": {
      "provenance": [],
      "authorship_tag": "ABX9TyN1uoWUpqvP+qEsW8lstSWB",
      "include_colab_link": true
    },
    "kernelspec": {
      "name": "python3",
      "display_name": "Python 3"
    },
    "language_info": {
      "name": "python"
    }
  },
  "cells": [
    {
      "cell_type": "markdown",
      "metadata": {
        "id": "view-in-github",
        "colab_type": "text"
      },
      "source": [
        "<a href=\"https://colab.research.google.com/github/ahmed0z/PIM_Tool_ML_Qoder/blob/master/PIM_ML_02.ipynb\" target=\"_parent\"><img src=\"https://colab.research.google.com/assets/colab-badge.svg\" alt=\"Open In Colab\"/></a>"
      ]
    },
    {
      "cell_type": "code",
      "metadata": {
        "colab": {
          "base_uri": "https://localhost:8080/"
        },
        "id": "7aca6f50",
        "outputId": "b8dc9f68-6f03-4290-e4cc-c835775a9c35"
      },
      "source": [
        "get_ipython().system('unzip PIM_Tool_ML_Qoder-master.zip')"
      ],
      "execution_count": 1,
      "outputs": [
        {
          "output_type": "stream",
          "name": "stdout",
          "text": [
            "Archive:  PIM_Tool_ML_Qoder-master.zip\n",
            "bd26a2ecdb7142c06196bb04f2cc5082c2aee8cb\n",
            "   creating: PIM_Tool_ML_Qoder-master/\n",
            "  inflating: PIM_Tool_ML_Qoder-master/.gitignore  \n",
            "  inflating: PIM_Tool_ML_Qoder-master/Dockerfile  \n",
            "  inflating: PIM_Tool_ML_Qoder-master/README.md  \n",
            "  inflating: PIM_Tool_ML_Qoder-master/api.md  \n",
            "   creating: PIM_Tool_ML_Qoder-master/autopatternchecker/\n",
            "  inflating: PIM_Tool_ML_Qoder-master/autopatternchecker/__init__.py  \n",
            "  inflating: PIM_Tool_ML_Qoder-master/autopatternchecker/active_learning.py  \n",
            "  inflating: PIM_Tool_ML_Qoder-master/autopatternchecker/api.py  \n",
            "  inflating: PIM_Tool_ML_Qoder-master/autopatternchecker/clustering.py  \n",
            "  inflating: PIM_Tool_ML_Qoder-master/autopatternchecker/embeddings.py  \n",
            "  inflating: PIM_Tool_ML_Qoder-master/autopatternchecker/indexing.py  \n",
            "  inflating: PIM_Tool_ML_Qoder-master/autopatternchecker/ingest.py  \n",
            "  inflating: PIM_Tool_ML_Qoder-master/autopatternchecker/normalize.py  \n",
            "  inflating: PIM_Tool_ML_Qoder-master/autopatternchecker/profiling.py  \n",
            "  inflating: PIM_Tool_ML_Qoder-master/autopatternchecker/utils.py  \n",
            "  inflating: PIM_Tool_ML_Qoder-master/colab_notebook_full_pipeline.ipynb  \n",
            "   creating: PIM_Tool_ML_Qoder-master/configs/\n",
            "  inflating: PIM_Tool_ML_Qoder-master/configs/model_config.json  \n",
            "  inflating: PIM_Tool_ML_Qoder-master/configs/pipeline_config.yaml  \n",
            "  inflating: PIM_Tool_ML_Qoder-master/deployment.md  \n",
            "  inflating: PIM_Tool_ML_Qoder-master/docker-compose.yml  \n",
            "  inflating: PIM_Tool_ML_Qoder-master/requirements.txt  \n",
            "  inflating: PIM_Tool_ML_Qoder-master/setup.py  \n",
            "   creating: PIM_Tool_ML_Qoder-master/tests/\n",
            "  inflating: PIM_Tool_ML_Qoder-master/tests/test_api.py  \n",
            "  inflating: PIM_Tool_ML_Qoder-master/tests/test_ingest.py  \n",
            "  inflating: PIM_Tool_ML_Qoder-master/tests/test_utils.py  \n"
          ]
        }
      ]
    },
    {
      "cell_type": "code",
      "metadata": {
        "colab": {
          "base_uri": "https://localhost:8080/"
        },
        "id": "adca95c5",
        "outputId": "6a295a8f-3de5-4b2c-9cae-f962824935e1"
      },
      "source": [
        "get_ipython().system('pip install -q pandas numpy scikit-learn hdbscan faiss-cpu sentence-transformers fastapi uvicorn pyyaml python-multipart pydantic')"
      ],
      "execution_count": 2,
      "outputs": [
        {
          "output_type": "stream",
          "name": "stdout",
          "text": [
            "\u001b[2K   \u001b[90m━━━━━━━━━━━━━━━━━━━━━━━━━━━━━━━━━━━━━━━━\u001b[0m \u001b[32m31.4/31.4 MB\u001b[0m \u001b[31m57.8 MB/s\u001b[0m eta \u001b[36m0:00:00\u001b[0m\n",
            "\u001b[?25h"
          ]
        }
      ]
    },
    {
      "cell_type": "code",
      "metadata": {
        "colab": {
          "base_uri": "https://localhost:8080/"
        },
        "id": "59f9c7cf",
        "outputId": "292698ab-69e4-468b-c206-03bb08f6fadc"
      },
      "source": [
        "# Mount Google Drive (optional, for saving artifacts)\n",
        "from google.colab import drive\n",
        "drive.mount('/content/drive')"
      ],
      "execution_count": 3,
      "outputs": [
        {
          "output_type": "stream",
          "name": "stdout",
          "text": [
            "Mounted at /content/drive\n"
          ]
        }
      ]
    }
  ]
}